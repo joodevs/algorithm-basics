{
 "cells": [
  {
   "cell_type": "markdown",
   "source": [
    "# Dynamic Programming\n",
    "피보나치 수열과 같이 같은 함수가 정해진 점화식을 따라 여러 번 호출되는 연산의 경우, 단순히 매번 계산하도록 하면 문제를 효율적으로 해결할 수 없다. 이러한 문제는 다음의 조건을 충족할 때 다이나믹 프로그래밍을 사용하면 효과적으로 해결할 수 있다.\n",
    "1. 큰 문제를 작은 문제로 나눌 수 있다.\n",
    "2. 작은 문제에서 구한 정답은 그것을 포함하는 큰 문제에서도 동일하다.\n",
    "\n",
    "피보나치 수열은 이러한 조건을 만족하는 대표 문제이다. 이 문제를 메모이제이션 (Memoization) 기법을 사용해서 해결해보자. 메모이제이션은 다이나믹 프로그래밍을 구현하는 방법 중 하나로, 한 번 구한 결과를 메모리 공간에 메모해두고 같은 식을 다시 호출하면 메모한 결과를 그대로 가져오는 기법을 의미한다.\n",
    "\n",
    "메모이제이션은 한 번 구한 정보를 리스트에 저장하여, 다이나믹 프로그래밍을 재귀적으로 수뱅하다가 같은 정보가 필요할 때는 이미 구한 정답을 그대로 리스트에서 가져오면 된다."
   ],
   "metadata": {
    "collapsed": false,
    "pycharm": {
     "name": "#%% md\n"
    }
   }
  },
  {
   "cell_type": "code",
   "execution_count": 1,
   "metadata": {
    "collapsed": true,
    "pycharm": {
     "name": "#%%\n"
    }
   },
   "outputs": [
    {
     "name": "stdout",
     "output_type": "stream",
     "text": [
      "218922995834555169026\n"
     ]
    }
   ],
   "source": [
    "# Initiate a list for storing calculated results for memorization\n",
    "d = [0] * 100\n",
    "\n",
    "# Realize Fibonacci Function through recursion\n",
    "def fibo(x):\n",
    "    # Base case\n",
    "    if x == 1 or x == 2:\n",
    "        return 1\n",
    "\n",
    "    # If calculated before, return result\n",
    "    if d[x] != 0:\n",
    "        return d[x]\n",
    "    # If never calculate, obtain and store result\n",
    "    d[x] = fibo(x - 1) + fibo(x - 2)\n",
    "    return d[x]\n",
    "\n",
    "print(fibo(99))"
   ]
  },
  {
   "cell_type": "code",
   "execution_count": null,
   "outputs": [],
   "source": [],
   "metadata": {
    "collapsed": false,
    "pycharm": {
     "name": "#%%\n"
    }
   }
  }
 ],
 "metadata": {
  "kernelspec": {
   "display_name": "Python 3",
   "language": "python",
   "name": "python3"
  },
  "language_info": {
   "codemirror_mode": {
    "name": "ipython",
    "version": 2
   },
   "file_extension": ".py",
   "mimetype": "text/x-python",
   "name": "python",
   "nbconvert_exporter": "python",
   "pygments_lexer": "ipython2",
   "version": "2.7.6"
  }
 },
 "nbformat": 4,
 "nbformat_minor": 0
}