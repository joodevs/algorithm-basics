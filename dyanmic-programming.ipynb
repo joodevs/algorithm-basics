{
 "cells": [
  {
   "cell_type": "markdown",
   "source": [
    "# Dynamic Programming\n",
    "피보나치 수열과 같이 같은 함수가 정해진 점화식을 따라 여러 번 호출되는 연산의 경우, 단순히 매번 계산하도록 하면 문제를 효율적으로 해결할 수 없다. 이러한 문제는 다음의 조건을 충족할 때 다이나믹 프로그래밍을 사용하면 효과적으로 해결할 수 있다.\n",
    "1. 큰 문제를 작은 문제로 나눌 수 있다.\n",
    "2. 작은 문제에서 구한 정답은 그것을 포함하는 큰 문제에서도 동일하다.\n",
    "\n",
    "피보나치 수열은 이러한 조건을 만족하는 대표 문제이다. 이 문제를 메모이제이션 (Memoization) 기법을 사용해서 해결해보자. 메모이제이션은 다이나믹 프로그래밍을 구현하는 방법 중 하나로, 한 번 구한 결과를 메모리 공간에 메모해두고 같은 식을 다시 호출하면 메모한 결과를 그대로 가져오는 기법을 의미한다.\n",
    "\n",
    "메모이제이션은 한 번 구한 정보를 리스트에 저장하여, 다이나믹 프로그래밍을 재귀적으로 수뱅하다가 같은 정보가 필요할 때는 이미 구한 정답을 그대로 리스트에서 가져오면 된다."
   ],
   "metadata": {
    "collapsed": false,
    "pycharm": {
     "name": "#%% md\n"
    }
   }
  },
  {
   "cell_type": "code",
   "execution_count": 2,
   "metadata": {
    "collapsed": true,
    "pycharm": {
     "name": "#%%\n"
    }
   },
   "outputs": [
    {
     "name": "stdout",
     "output_type": "stream",
     "text": [
      "218922995834555169026\n"
     ]
    }
   ],
   "source": [
    "# # Simulate Fibonacci Function using recursion\n",
    "# def fibo(x):\n",
    "#     if x == 1 or x == 2:\n",
    "#         return 1\n",
    "#     return fibo(x - 1) + fibo(x - 2)\n",
    "\n",
    "\n",
    "# Initiate a list for storing calculated results for memorization\n",
    "d = [0] * 100\n",
    "\n",
    "# Realize Fibonacci Function through recursion\n",
    "def fibo(x):\n",
    "    # Base case\n",
    "    if x == 1 or x == 2:\n",
    "        return 1\n",
    "\n",
    "    # If calculated before, return result\n",
    "    if d[x] != 0:\n",
    "        return d[x]\n",
    "    # If never calculate, obtain and store result\n",
    "    d[x] = fibo(x - 1) + fibo(x - 2)\n",
    "    return d[x]\n",
    "\n",
    "print(fibo(99))"
   ]
  },
  {
   "cell_type": "markdown",
   "source": [
    "정리하자면 다이나믹 프로그래밍은 큰 문제를 작게 나누고, 같은 문제라면 한 번씩만 풀어 문제를 효율적으로 해결하는 알고리즘 기법이다. 사실 큰 문제를 작게 나누는 방법은 퀵 정렬에서도 소개된 적이 있는데, 퀵 정렬은 정렬을 수행할 때 정렬할 리스트를 분할하며 전체적으로 정렬이 될 수 있도록 한다. 이는 분할 정봅 (Divide and Conquer) 알고리즘으로 분류된다. 다이나믹 프로그래밍과 분할 정복의 차이점은 다이나믹 프로그래밍은 문제들이 서로 영향을 미치고 있다는 점.\n",
    "\n",
    "위 코드에서 호출되는 함수들, 그들의 순서는:"
   ],
   "metadata": {
    "collapsed": false,
    "pycharm": {
     "name": "#%% md\n"
    }
   }
  },
  {
   "cell_type": "code",
   "execution_count": 8,
   "outputs": [
    {
     "name": "stdout",
     "output_type": "stream",
     "text": [
      "f(6) f(5) f(4) f(3) f(2) f(1) f(2) f(3) f(4) "
     ]
    },
    {
     "data": {
      "text/plain": "8"
     },
     "execution_count": 8,
     "metadata": {},
     "output_type": "execute_result"
    }
   ],
   "source": [
    "# Initiate a list for storing calculated results for memorization\n",
    "d = [0] * 100\n",
    "\n",
    "# Realize Fibonacci Function through recursion\n",
    "def pibo(x):\n",
    "    print('f(' + str(x) + ')', end=' ')\n",
    "    # Base case\n",
    "    if x == 1 or x == 2:\n",
    "        return 1\n",
    "\n",
    "    # If calculated before, return result\n",
    "    if d[x] != 0:\n",
    "        return d[x]\n",
    "    # If never calculate, obtain and store result\n",
    "    d[x] = pibo(x - 1) + pibo(x - 2)\n",
    "    return d[x]\n",
    "\n",
    "pibo(6)"
   ],
   "metadata": {
    "collapsed": false,
    "pycharm": {
     "name": "#%%\n"
    }
   }
  },
  {
   "cell_type": "markdown",
   "source": [
    "이처럼 재귀 함수를 이용하여 다이나믹 프로그래밍 소스코드를 작성하는 방법을, 큰 문제를 해결하기 위해 작은 문제를 호출한다고 하여 `탑다운 (Top-Down)` 방식이라 한다.\n",
    "\n",
    "반면에 단순히 반복문을 이용하여 소스코드를 작성하는 경우 작은 문제부터 차근차근 답을 도출한다고 하여 `보텀업 (Bottom-Up)` 방식이라 한다. 피보나치 수열 문제를 보텀업 방식으로 풀면 다음과 같다."
   ],
   "metadata": {
    "collapsed": false,
    "pycharm": {
     "name": "#%% md\n"
    }
   }
  },
  {
   "cell_type": "code",
   "execution_count": 9,
   "outputs": [
    {
     "name": "stdout",
     "output_type": "stream",
     "text": [
      "218922995834555169026\n"
     ]
    }
   ],
   "source": [
    "# Initiate DP table for storing calculated results\n",
    "d = [0] * 100\n",
    "\n",
    "# Define d[1] and d[2]\n",
    "d[1] = 1\n",
    "d[2] = 1\n",
    "n = 99\n",
    "\n",
    "# Define the Fibonacci function\n",
    "for i in range(3, n + 1):\n",
    "    d[i] = d[i - 1] + d[i - 2]\n",
    "\n",
    "print(d[n])"
   ],
   "metadata": {
    "collapsed": false,
    "pycharm": {
     "name": "#%%\n"
    }
   }
  },
  {
   "cell_type": "markdown",
   "source": [
    "다이나믹 프로그래밍 문제를 푸는 첫 번째 단계는 주어진 문제가 다이나믹 프로그래밍 유형임을 파악하는 것이다. 특정한 문제를 완전 탐색 알고리즘으로 접근했을 때 시간이 매우 오래 걸리면 다이나믹 프로그래밍을 적용할 수 있는지 해결하고자 하는 부분 문제들의 중복 여부를 확인해보자.\n",
    "\n",
    "일단 단순히 재귀 함수로 비효율적인 프로그램을 작성한 뒤에 (탑다운) 작은 문제에서 구한 답이 큰 문제에서 그대로 사용될 수 있으면, 즉 메모이제이션을 적용할 수 있으면 코드를 개선하는 방법도 좋은 아이디어이다. 앞서 다루었던 피보나치 수열의 예제처럼 재귀 함수를 작성한 뒤에 나중에 메모이제이션 기법을 적용해 소스코드를 수정하는 것도 좋은 방법이다."
   ],
   "metadata": {
    "collapsed": false,
    "pycharm": {
     "name": "#%% md\n"
    }
   }
  },
  {
   "cell_type": "markdown",
   "source": [
    "# 실전 문제 -- 1로 만들기\n",
    "정수 X가 주어질 때 정수 X에 사용할 수 있는 연산은 다음과 같이 4가지이다.\n",
    "* X가 5로 나누어떨어지면, 5로 나눈다.\n",
    "* X가 3으로 나누어떨어지면, 3으로 나눈다.\n",
    "* X가 2로 나누어떨어지면, 2로 나눈다.\n",
    "* X에서 1을 뺀다.\n",
    "\n",
    "정수 X가 주어졌을 때, 연산 4개를 적절히 사용해서 1을 만들려고 한다. 연산을 사용하는 횟수의 최솟값을 출력하시오.\n",
    "\n",
    "예를 들어 정수가 26이면 다음과 같이 계산해서 3번의 연산이 최솟값이다.\n",
    "1. 26 - 1 = 25\n",
    "2. 25 / 5 = 5\n",
    "3. 5 / 5 = 1\n",
    "\n",
    "이 문제의 점화식은 다음과 같이 세울 수 있다:\n",
    "$$a_i = min(a_{i-1}, a_{i/2}, a_{i/3}, a_{i/5})$$"
   ],
   "metadata": {
    "collapsed": false,
    "pycharm": {
     "name": "#%% md\n"
    }
   }
  },
  {
   "cell_type": "code",
   "execution_count": 12,
   "outputs": [
    {
     "name": "stdout",
     "output_type": "stream",
     "text": [
      "3\n"
     ]
    }
   ],
   "source": [
    "# Receive input\n",
    "x = int(input())\n",
    "\n",
    "# Initiate DP table\n",
    "d = [0] * 3001\n",
    "\n",
    "# Bottom-up dynamic programming\n",
    "for i in range(2, x + 1):\n",
    "    # Subtracting 1\n",
    "    d[i] = d[i - 1] + 1\n",
    "    # If divisible by 2\n",
    "    if i % 2 == 0:\n",
    "        d[i] = min(d[i], d[i // 2] + 1)\n",
    "    # If divisible by 3\n",
    "    if i % 3 == 0:\n",
    "        d[i] = min(d[i], d[i // 3] + 1)\n",
    "    # If divisible by 5\n",
    "    if i % 5 == 0:\n",
    "        d[i] = min(d[i], d[i // 5] + 1)\n",
    "\n",
    "print(d[x])"
   ],
   "metadata": {
    "collapsed": false,
    "pycharm": {
     "name": "#%%\n"
    }
   }
  },
  {
   "cell_type": "markdown",
   "source": [
    "# 실전 문제 - 개미 전사\n",
    "개미 전사는 부족한 식량을 충당하고자 메뚜기 마을의 식량창고를 몰래 공격하려고 한다. 메두기 마을에는 여러 개의 식량창고가 있는데, 식량창고는 일직선으로 이어져 있다. 각 식량창고에는 정해진 수의 식량을 저장하고 있으며 개미 전사는 식량창고를 선택적으로 약탈하여 식량을 빼앗을 예정이다. 이때 메뚜기 정찰병들은 일직선상에 존재하는 식량창고 중에서 서로 인접한 식량창고가 공격받으면 바로 알아챌 수 있다. 따라서 개미 전사가 정찰병에게 들키지 않고 식량창고를 약탈하기 위해서는 최소한 한 칸 이상 떨어진 식량창고를 약탈해야 한다. 예를 들어 식량창고 4개랄 다음과 같이 존재한다 가정하자.\n",
    "\n",
    "`[1, 3, 1, 5]`\n",
    "\n",
    "이때 개미 전사는 두번째 식량창고화 네 번째 식량창고를 선택했을 때 최댓갑인 총 8개의 식량을 빼앗을 수 있다. 개미 전사는 식량창고가 이렇게 일직선상일 때 최대한 많은 식량을 얻기를 원한다. 개미 전사를 위해 식량 창고 N개에 대한 정보가 주어졌을 때 얻을 수 있는 식량의 최댓값을 구하는 프로그램을 작성하시오.\n",
    "\n",
    "이 문제의 점화식은 다음과 같이 세울 수 있다:\n",
    "$$a_i = max(a_{i-1}, a_{i-2} + k)$$"
   ],
   "metadata": {
    "collapsed": false,
    "pycharm": {
     "name": "#%% md\n"
    }
   }
  },
  {
   "cell_type": "code",
   "execution_count": 13,
   "outputs": [
    {
     "name": "stdout",
     "output_type": "stream",
     "text": [
      "8\n"
     ]
    }
   ],
   "source": [
    "# Receive input\n",
    "n = int(input())\n",
    "# Receive food info\n",
    "array = list(map(int, input().split()))\n",
    "\n",
    "# Initiate DP table\n",
    "d = [0] * 100\n",
    "\n",
    "# Bottom-up dynamic programming\n",
    "d[0] = array[0]\n",
    "d[1] = max(array[0], array[1])\n",
    "for i in range(2, n):\n",
    "    d[i] = max(d[i - 1], d[i - 2] + array[i])\n",
    "\n",
    "print(d[n - 1])"
   ],
   "metadata": {
    "collapsed": false,
    "pycharm": {
     "name": "#%%\n"
    }
   }
  },
  {
   "cell_type": "markdown",
   "source": [
    "Visualize the solution as follows: Because the recursive formula applies for the thdird increment and beyond, we need to specify the ideal solutions for d[0] and d[1]. Then, for any other `i`th room we visit, we consider two cases: 1) Visiting the `i`th and `(i - 2)`nd room 2) visiting `(i - 1)`st room.\n",
    "\n",
    "Note that we need not be bothered with calculating the ideal solutions for `(i - 3)` and so on, because they have been accounted for during the calculation of `d[i - 1]` and `d[i - 2]`."
   ],
   "metadata": {
    "collapsed": false,
    "pycharm": {
     "name": "#%% md\n"
    }
   }
  },
  {
   "cell_type": "markdown",
   "source": [
    "# 실전 문제 - 바닥 공사\n",
    "가로의 `길이가 N`, `세로의 길이가 2`인 직사각형 형태의 얇은 바닥이 있다. 태일이는 이 얇은 바닥을 `1 x 2` 의 덮개, `2 x 1` 의 덮개, `2 x 2` 의 덮개를 이용해 채우고자 한다. 이때 바닥을 채우는 모든 경우의 수를 구하는 프로그램을 작성하시오. 예를 들어 `2 x 3` 크기의 바닥을 채우는 경우의 수는 5가지이다.\n",
    "\n",
    "이 문제의 점화식은 다음과 같이 세울 수 있다:\n",
    "\n",
    "$$ a_i = a_{i - 1} + a_{i - 2} * 2 $$\n",
    "\n",
    "이 문제 역시 `i`번째 위치에 대한 최적의 해를 구할 때 왼쪽부터 `(i-3)`번째 이하의 위치에 대한 최적의 해에 대해서는 고려할 필요가 없다. 왜냐하면 사용할 수 있는 덮개의 형태가 최대 `2 x 2` 크기의 직사각형 형태이기 때문이다. 다시 말해 바닥을 채울 수 있는 형태는 위에서 언급한 경우밖에 없다.\n",
    "\n",
    "위 점화식에서 $$a_{i - 2}$$가 2번 고려된 이유는 `2 x 2` 사각형을 채울 수 있는 방법은 `1 x 2` 크기의 타일 2개, `2 x 2` 크기의 타일 1개로 채우는 방법 2개이다. 여기서 `2 x 1` 타일 2개로 채우는 방법이 생략된 이유는 `(i - 1)`까지의 길이가 덮개로 채워져 있을 경우를 고려할 때 포함되었기 때문이다 (이떄는 나머지, 즉 마지막 열을 `2 x 1` 로 채우는 경우 하나밖에 존재하지 않는다)."
   ],
   "metadata": {
    "collapsed": false,
    "pycharm": {
     "name": "#%% md\n"
    }
   }
  },
  {
   "cell_type": "code",
   "execution_count": 14,
   "outputs": [
    {
     "name": "stdout",
     "output_type": "stream",
     "text": [
      "5\n"
     ]
    }
   ],
   "source": [
    "# Receive N, the number of columns\n",
    "n = int(input())\n",
    "\n",
    "# Initiate DP table for storing previous results\n",
    "d = [0] * 1001\n",
    "\n",
    "# Begin bottom-up programming\n",
    "d[1] = 1\n",
    "d[2] = 3\n",
    "for i in range(3, n + 1):\n",
    "    d[i] = (d[i - 1] + 2 * d[i - 2]) % 796796\n",
    "\n",
    "# Print result\n",
    "print(d[n])"
   ],
   "metadata": {
    "collapsed": false,
    "pycharm": {
     "name": "#%%\n"
    }
   }
  },
  {
   "cell_type": "markdown",
   "source": [
    "여기서 796,796으로 나눈 나머지를 출력하는 이유는 단지 결괏값이 굉장히 커질 수 있기 때문이다."
   ],
   "metadata": {
    "collapsed": false,
    "pycharm": {
     "name": "#%% md\n"
    }
   }
  },
  {
   "cell_type": "markdown",
   "source": [
    "# 효율적인 화폐 구성\n",
    "N가지 종류의 화폐가 있다. 이 화폐들의 개수를 최소한으로 이용해서 그 가치의 합이 M원이 되도록 하려고 한다. 이때 각 화폐는 몇 개라도 사용할 수 있으며, 사용한 화폐의 구성은 같지만 순서만 다른 것은 같은 경우로 구분한다. 예를 들어 2원, 3원 단위의 화폐가 있을 때는 15원을 만들기 위해 3원을 5개 사용하는 것이 가장 최소한의 화폐 개수이다.\n",
    "\n",
    "이 문제는 그리디에서 다루었던 거스름돈 문제와 거의 동일하다. 다만, 화폐 단위에서 큰 단위가 작은 단위의 배수가 아니라는 점만 다르다. 그렇기 때문에 그리디 알고리즘을 사용했던 예시처럼 매번 가장 큰 화폐 단위부터 처리하는 방법으로는 해결할 수 없고 다이나믹 프로그래밍을 사용해야 한다.\n",
    "\n",
    "우리는 적은 금액부터 큰 금액까지 확인하며 차례대로 만들 수 있는 최소한의 화폐 개수를 찾으면 된다. 금액 i 를 만들 수 있는 최소한의 화폐 개수를 `a_i`, 화폐의 단위를 `k` 라고 했을 때, 다음과 같이 점화식을 작성할 수 있다:\n",
    "\n",
    "`(i - k)` 를 만드는 방법이 존재하는 경우: $$a_i = min(a_i, a_{i-k} + 1)$$\n",
    "\n",
    "\n",
    "`(i - k)` 를 만드는 방법이 존재하지 않는 경우: $$a_i = 10,001$$"
   ],
   "metadata": {
    "collapsed": false,
    "pycharm": {
     "name": "#%% md\n"
    }
   }
  },
  {
   "cell_type": "code",
   "execution_count": null,
   "outputs": [],
   "source": [
    "# receive N (# currencies), M (goal amount)\n"
   ],
   "metadata": {
    "collapsed": false,
    "pycharm": {
     "name": "#%%\n"
    }
   }
  }
 ],
 "metadata": {
  "kernelspec": {
   "display_name": "Python 3",
   "language": "python",
   "name": "python3"
  },
  "language_info": {
   "codemirror_mode": {
    "name": "ipython",
    "version": 2
   },
   "file_extension": ".py",
   "mimetype": "text/x-python",
   "name": "python",
   "nbconvert_exporter": "python",
   "pygments_lexer": "ipython2",
   "version": "2.7.6"
  }
 },
 "nbformat": 4,
 "nbformat_minor": 0
}