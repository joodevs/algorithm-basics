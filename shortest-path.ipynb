{
 "cells": [
  {
   "cell_type": "markdown",
   "source": [
    "# 가장 빠른 길 찾기\n",
    "최단 경로 (Shortest Path) 알고리즘은 가장 짧은 경로를 찾는 알고리즘이다. 그래서 `길 찾기`문제라고도 불린다. 최단 경로 알고리즘 유형에는 다양한 종류가 있는데, 상황에 맞는 효율적인 알고리즘이 이미 정립되어 있다.\n",
    "\n",
    "예를 들어 `한 지점에서 다른 특정 지점까지의 최단 경로를 구해야 하는 경우`, `모든 지점에서 다른 모든 지점까지의 최단 경로를 모두 구해야 하는 경우`등의 다양한 사례가 존재한다. 이런 샤례에 맞는 알고리즘을 알고 있다면 문제를 좀 더 쉽게 풀 수 있다.\n",
    "\n",
    "최단 경로 문제는 보통 그래프를 이용해 표현하는데 각 지점은 그래프에서 `노드`로 표현되고, 지점간 연결된 도로는 그래프에서 `간선`으로 표현된다. 또한 실제 코딩 테스트에서는 최단 경로를 모두 출력하는 문제보다는 단순히 최단 거리를 출력하도록 요구하는 문제가 많이 출제된다.\n",
    "\n",
    "컴퓨터공학과 학부 수준에서 사용하는 최단 거리 알고리즘은 `다익스트라 (Dijkstra) 최단 경로 알고리즘, 플로이드 워셜 (Floyd Warshall), 벨만 포드 (Bellman Ford) 알고리즘`, 이렇게 3가지이다."
   ],
   "metadata": {
    "collapsed": false,
    "pycharm": {
     "name": "#%% md\n"
    }
   }
  },
  {
   "cell_type": "code",
   "execution_count": null,
   "metadata": {
    "collapsed": true,
    "pycharm": {
     "name": "#%%\n"
    }
   },
   "outputs": [],
   "source": []
  }
 ],
 "metadata": {
  "kernelspec": {
   "display_name": "Python 3",
   "language": "python",
   "name": "python3"
  },
  "language_info": {
   "codemirror_mode": {
    "name": "ipython",
    "version": 2
   },
   "file_extension": ".py",
   "mimetype": "text/x-python",
   "name": "python",
   "nbconvert_exporter": "python",
   "pygments_lexer": "ipython2",
   "version": "2.7.6"
  }
 },
 "nbformat": 4,
 "nbformat_minor": 0
}